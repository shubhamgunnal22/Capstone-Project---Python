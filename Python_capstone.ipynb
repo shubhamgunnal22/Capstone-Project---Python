{
  "nbformat": 4,
  "nbformat_minor": 0,
  "metadata": {
    "colab": {
      "provenance": []
    },
    "kernelspec": {
      "name": "python3",
      "display_name": "Python 3"
    },
    "language_info": {
      "name": "python"
    }
  },
  "cells": [
    {
      "cell_type": "code",
      "execution_count": 6,
      "metadata": {
        "colab": {
          "base_uri": "https://localhost:8080/"
        },
        "id": "6dStvMvtHdxc",
        "outputId": "2802fddd-b548-4dea-939d-0039cea4ae76"
      },
      "outputs": [
        {
          "output_type": "stream",
          "name": "stdout",
          "text": [
            "Dataframe saved to Projects_Dataframe.csv\n"
          ]
        }
      ],
      "source": [
        "#1. There are three different tables as given above. Please make three dataframe in python and save them as three .csv files. From Task 2 to Task 10, use the saved .csv files only.\n",
        "import pandas as pd\n",
        "\n",
        "Projects_Dataframe = pd.DataFrame({\n",
        "    'ID' : ['A001','A002','A003','A004','A005','A002','A005','A003', 'A001','A003', 'A001', 'A004', 'A004', 'A005'],\n",
        "    'Project' : ['Project 1','Project 2','Project 3','Project 4','Project 5','Project 6','Project 7','Project 8','Project 9','Project 10','Project 11','Project 12','Project 13','Project 14'],\n",
        "    'Cost' : [1002000,2000000,4500000,5500000,None,680000,400000,350000,None,300000,2000000,1000000,3000000,200000],\n",
        "    'Status' : ['Finished','Ongoing','Finished','Ongoing','Finished','Failed','Finished','Failed','Ongoing','Finished','Failed','Ongoing','Finished','Finished']\n",
        "})\n",
        "\n",
        "dataframes = {\n",
        "    'df_projects': Projects_Dataframe,\n",
        "}\n",
        "\n",
        "df = pd.DataFrame(Projects_Dataframe)\n",
        "\n",
        "df.to_csv('Projects_Dataframe.csv', index=False)\n",
        "print('Dataframe saved to Projects_Dataframe.csv')"
      ]
    },
    {
      "cell_type": "code",
      "source": [
        "#1. There are three different tables as given above. Please make three dataframe in python and save them as three .csv files. From Task 2 to Task 10, use the saved .csv files only.\n",
        "import pandas as pd\n",
        "\n",
        "Employee_Dataframe = pd.DataFrame({\n",
        "    'ID' : ['A001','A002','A003','A004','A005'],\n",
        "    'Name' : ['John Alter','Alice Luxumberg','Tom Sabestine','Nina Adgra','Amy Johny'],\n",
        "    'Gender' : ['M','F','M','F','F'],\n",
        "    'City' : ['Paris','London','Berlin','Newyork','Madrid'],\n",
        "    'Age' : [25,27,29,31,30]\n",
        "})\n",
        "\n",
        "dataframes = {\n",
        "    'df_other': Employee_Dataframe,\n",
        "}\n",
        "df = pd.DataFrame(Employee_Dataframe)\n",
        "\n",
        "df.to_csv('Employee_Dataframe.csv', index=False)\n",
        "print(\"Dataframe saved to 'Employee_Dataframe.csv'\")"
      ],
      "metadata": {
        "colab": {
          "base_uri": "https://localhost:8080/"
        },
        "id": "SppwGz6njY8W",
        "outputId": "347d33dc-16ef-4ecb-cfbb-2ad3d8772a87"
      },
      "execution_count": 7,
      "outputs": [
        {
          "output_type": "stream",
          "name": "stdout",
          "text": [
            "Dataframe saved to 'Employee_Dataframe.csv'\n"
          ]
        }
      ]
    },
    {
      "cell_type": "code",
      "source": [
        "#1. There are three different tables as given above. Please make three dataframe in python and save them as three .csv files. From Task 2 to Task 10, use the saved .csv files only.\n",
        "import pandas as pd\n",
        "\n",
        "Seniority_Level_Dataframe = pd.DataFrame({\n",
        "    'ID' : ['A001','A002','A003','A004','A005'],\n",
        "    'Designation Level' : [2,2,3,2,3]\n",
        "})\n",
        "\n",
        "dataframes = {\n",
        "    'df_another': Seniority_Level_Dataframe,\n",
        "}\n",
        "df = pd.DataFrame(Seniority_Level_Dataframe)\n",
        "\n",
        "df.to_csv('Seniority_Level_Dataframe.csv', index=False)\n",
        "print(\"Dataframe saved to 'Seniority_Level_Dataframe.csv'\")"
      ],
      "metadata": {
        "colab": {
          "base_uri": "https://localhost:8080/"
        },
        "id": "sz9UZgjpjeQ7",
        "outputId": "70bc2238-0f0c-498c-b713-0f72bcd95d2b"
      },
      "execution_count": 8,
      "outputs": [
        {
          "output_type": "stream",
          "name": "stdout",
          "text": [
            "Dataframe saved to 'Seniority_Level_Dataframe.csv'\n"
          ]
        }
      ]
    },
    {
      "cell_type": "code",
      "source": [
        "#2. The cost column in the dataframe “Project” has some missing values. Your task is to compute these missing values. Replace the missing values by running average. You should use the “For” loop for this task.\n",
        "\n",
        "import pandas as pd\n",
        "import numpy as np\n",
        "\n",
        "dataframes = {\n",
        "    'df_projects': Projects_Dataframe,\n",
        "}\n",
        "\n",
        "target_df_name = 'df_projects'\n",
        "\n",
        "# Check if the target DataFrame exists\n",
        "if target_df_name in dataframes and isinstance(dataframes[target_df_name], pd.DataFrame):\n",
        "    df = dataframes[target_df_name]\n",
        "\n",
        "    # Replace missing values in the \"Cost\" column using a running average\n",
        "    for i in range(len(df)):\n",
        "        if np.isnan(df.loc[i, 'Cost']):\n",
        "            running_sum = 0\n",
        "            count = 0\n",
        "            for j in range(i):\n",
        "                if not np.isnan(df.loc[j, 'Cost']):\n",
        "                    running_sum += df.loc[j, 'Cost']\n",
        "                    count += 1\n",
        "            if count > 0:\n",
        "                df.loc[i, 'Cost'] = running_sum / count\n",
        "\n",
        "    # The original DataFrame in the dictionary is now updated in place\n",
        "    dataframes[target_df_name] = df\n",
        "    print(f\"Missing values in 'Cost' column of '{target_df_name}' replaced with running average and saved in the same DataFrame.\")\n",
        "\n",
        "else:\n",
        "    print(f\"DataFrame '{target_df_name}' not found.\")"
      ],
      "metadata": {
        "colab": {
          "base_uri": "https://localhost:8080/"
        },
        "id": "9CbFJvI9Jsh4",
        "outputId": "39f9d9ad-7527-4d24-df22-d0eefcd5b037"
      },
      "execution_count": 9,
      "outputs": [
        {
          "output_type": "stream",
          "name": "stdout",
          "text": [
            "Missing values in 'Cost' column of 'df_projects' replaced with running average and saved in the same DataFrame.\n"
          ]
        }
      ]
    },
    {
      "cell_type": "code",
      "source": [
        "#3. Split the name column in the Employee dataframe into two new columns “First Name”, and “LastName” and remove the older “name” column.\n",
        "\n",
        "import numpy as np\n",
        "import pandas as pd\n",
        "\n",
        "dataframes = {\n",
        "    'df_other': Employee_Dataframe,\n",
        "}\n",
        "\n",
        "Employee_Dataframe = dataframes['df_other']\n",
        "\n",
        "# Split 'Name' into 'First Name' and 'Last Name'\n",
        "split_names = Employee_Dataframe['Name'].str.split(' ')\n",
        "\n",
        "Employee_Dataframe[['First Name', 'Last Name']] = pd.DataFrame(split_names.tolist(), index=Employee_Dataframe.index)\n",
        "\n",
        "# Drop the original 'Name' column\n",
        "Employee_Dataframe = Employee_Dataframe.drop(columns=['Name'])\n",
        "\n",
        "print(Employee_Dataframe)"
      ],
      "metadata": {
        "colab": {
          "base_uri": "https://localhost:8080/"
        },
        "id": "z8lpI6XdOI3P",
        "outputId": "65b0562d-a3c5-4036-c55b-635e57ef79c5"
      },
      "execution_count": 10,
      "outputs": [
        {
          "output_type": "stream",
          "name": "stdout",
          "text": [
            "     ID Gender     City  Age First Name  Last Name\n",
            "0  A001      M    Paris   25       John      Alter\n",
            "1  A002      F   London   27      Alice  Luxumberg\n",
            "2  A003      M   Berlin   29        Tom  Sabestine\n",
            "3  A004      F  Newyork   31       Nina      Adgra\n",
            "4  A005      F   Madrid   30        Amy      Johny\n"
          ]
        }
      ]
    },
    {
      "cell_type": "code",
      "source": [
        "#4. Join all three dataframes in one single dataframe. Name it “Final”\n",
        "import pandas as pd\n",
        "\n",
        "dataframes = {\n",
        "    'df_projects': Projects_Dataframe,\n",
        "    'df_other': Employee_Dataframe,\n",
        "    'df_another': Seniority_Level_Dataframe,\n",
        "}\n",
        "\n",
        "Employee_Dataframe = dataframes['df_other']\n",
        "Seniority_Level_Dataframe = dataframes['df_another']\n",
        "Projects_Dataframe = dataframes['df_projects']\n",
        "\n",
        "merged_df = pd.merge(Employee_Dataframe, Seniority_Level_Dataframe, on='ID', how='left')\n",
        "\n",
        "\n",
        "Final = pd.merge(merged_df, Projects_Dataframe, on='ID', how='left')\n",
        "\n",
        "print(Final)"
      ],
      "metadata": {
        "colab": {
          "base_uri": "https://localhost:8080/"
        },
        "id": "SS0K9EFfWecx",
        "outputId": "4b150ad0-92b0-4522-b5e1-d5e35617bfcb"
      },
      "execution_count": 11,
      "outputs": [
        {
          "output_type": "stream",
          "name": "stdout",
          "text": [
            "      ID Gender     City  Age First Name  Last Name  Designation Level  \\\n",
            "0   A001      M    Paris   25       John      Alter                  2   \n",
            "1   A001      M    Paris   25       John      Alter                  2   \n",
            "2   A001      M    Paris   25       John      Alter                  2   \n",
            "3   A002      F   London   27      Alice  Luxumberg                  2   \n",
            "4   A002      F   London   27      Alice  Luxumberg                  2   \n",
            "5   A003      M   Berlin   29        Tom  Sabestine                  3   \n",
            "6   A003      M   Berlin   29        Tom  Sabestine                  3   \n",
            "7   A003      M   Berlin   29        Tom  Sabestine                  3   \n",
            "8   A004      F  Newyork   31       Nina      Adgra                  2   \n",
            "9   A004      F  Newyork   31       Nina      Adgra                  2   \n",
            "10  A004      F  Newyork   31       Nina      Adgra                  2   \n",
            "11  A005      F   Madrid   30        Amy      Johny                  3   \n",
            "12  A005      F   Madrid   30        Amy      Johny                  3   \n",
            "13  A005      F   Madrid   30        Amy      Johny                  3   \n",
            "\n",
            "       Project       Cost    Status  \n",
            "0    Project 1  1002000.0  Finished  \n",
            "1    Project 9  2210312.5   Ongoing  \n",
            "2   Project 11  2000000.0    Failed  \n",
            "3    Project 2  2000000.0   Ongoing  \n",
            "4    Project 6   680000.0    Failed  \n",
            "5    Project 3  4500000.0  Finished  \n",
            "6    Project 8   350000.0    Failed  \n",
            "7   Project 10   300000.0  Finished  \n",
            "8    Project 4  5500000.0   Ongoing  \n",
            "9   Project 12  1000000.0   Ongoing  \n",
            "10  Project 13  3000000.0  Finished  \n",
            "11   Project 5  3250500.0  Finished  \n",
            "12   Project 7   400000.0  Finished  \n",
            "13  Project 14   200000.0  Finished  \n"
          ]
        }
      ]
    },
    {
      "cell_type": "code",
      "source": [
        "#5. Add a new bonus column in the Final dataframe. Give a 5% bonus concerning project cost only to employees who have finished the projects.\n",
        "\n",
        "import pandas as pd\n",
        "\n",
        "# Calculate the bonus: 5% of the project cost for \"Finished\" projects, otherwise 0\n",
        "Final['Bonus'] = Final.apply(\n",
        "    lambda row: row['Cost'] * 0.05 if row['Status'] == 'Finished' and pd.notnull(row['Cost']) else 0,\n",
        "    axis=1\n",
        ")\n",
        "\n",
        "# Display the final dataframe with the new Bonus column\n",
        "print(Final)"
      ],
      "metadata": {
        "colab": {
          "base_uri": "https://localhost:8080/"
        },
        "id": "Au-LVmCT2LgK",
        "outputId": "df902d9c-df3f-48be-e1b0-140674170f3c"
      },
      "execution_count": 12,
      "outputs": [
        {
          "output_type": "stream",
          "name": "stdout",
          "text": [
            "      ID Gender     City  Age First Name  Last Name  Designation Level  \\\n",
            "0   A001      M    Paris   25       John      Alter                  2   \n",
            "1   A001      M    Paris   25       John      Alter                  2   \n",
            "2   A001      M    Paris   25       John      Alter                  2   \n",
            "3   A002      F   London   27      Alice  Luxumberg                  2   \n",
            "4   A002      F   London   27      Alice  Luxumberg                  2   \n",
            "5   A003      M   Berlin   29        Tom  Sabestine                  3   \n",
            "6   A003      M   Berlin   29        Tom  Sabestine                  3   \n",
            "7   A003      M   Berlin   29        Tom  Sabestine                  3   \n",
            "8   A004      F  Newyork   31       Nina      Adgra                  2   \n",
            "9   A004      F  Newyork   31       Nina      Adgra                  2   \n",
            "10  A004      F  Newyork   31       Nina      Adgra                  2   \n",
            "11  A005      F   Madrid   30        Amy      Johny                  3   \n",
            "12  A005      F   Madrid   30        Amy      Johny                  3   \n",
            "13  A005      F   Madrid   30        Amy      Johny                  3   \n",
            "\n",
            "       Project       Cost    Status     Bonus  \n",
            "0    Project 1  1002000.0  Finished   50100.0  \n",
            "1    Project 9  2210312.5   Ongoing       0.0  \n",
            "2   Project 11  2000000.0    Failed       0.0  \n",
            "3    Project 2  2000000.0   Ongoing       0.0  \n",
            "4    Project 6   680000.0    Failed       0.0  \n",
            "5    Project 3  4500000.0  Finished  225000.0  \n",
            "6    Project 8   350000.0    Failed       0.0  \n",
            "7   Project 10   300000.0  Finished   15000.0  \n",
            "8    Project 4  5500000.0   Ongoing       0.0  \n",
            "9   Project 12  1000000.0   Ongoing       0.0  \n",
            "10  Project 13  3000000.0  Finished  150000.0  \n",
            "11   Project 5  3250500.0  Finished  162525.0  \n",
            "12   Project 7   400000.0  Finished   20000.0  \n",
            "13  Project 14   200000.0  Finished   10000.0  \n"
          ]
        }
      ]
    },
    {
      "cell_type": "code",
      "source": [
        "#6. Demote the designation level by 1, whose projects have status “fail”. Delete the employees record whose designation level is above 4.\n",
        "\n",
        "import pandas as pd\n",
        "\n",
        "#Demote the designation level by 1 for projects with status \"Failed\"\n",
        "Final.loc[Final['Status'] == 'Failed', 'Designation Level'] -= 1\n",
        "\n",
        "# Step 2: Remove employees whose designation level is above 4\n",
        "Final = Final[Final['Designation Level'] <= 4]\n",
        "\n",
        "# Display the updated dataframe\n",
        "print(Final)"
      ],
      "metadata": {
        "colab": {
          "base_uri": "https://localhost:8080/"
        },
        "id": "FgoQxvUZ3d0X",
        "outputId": "940a841b-00e7-493f-9e97-03cad1360b96"
      },
      "execution_count": 13,
      "outputs": [
        {
          "output_type": "stream",
          "name": "stdout",
          "text": [
            "      ID Gender     City  Age First Name  Last Name  Designation Level  \\\n",
            "0   A001      M    Paris   25       John      Alter                  2   \n",
            "1   A001      M    Paris   25       John      Alter                  2   \n",
            "2   A001      M    Paris   25       John      Alter                  1   \n",
            "3   A002      F   London   27      Alice  Luxumberg                  2   \n",
            "4   A002      F   London   27      Alice  Luxumberg                  1   \n",
            "5   A003      M   Berlin   29        Tom  Sabestine                  3   \n",
            "6   A003      M   Berlin   29        Tom  Sabestine                  2   \n",
            "7   A003      M   Berlin   29        Tom  Sabestine                  3   \n",
            "8   A004      F  Newyork   31       Nina      Adgra                  2   \n",
            "9   A004      F  Newyork   31       Nina      Adgra                  2   \n",
            "10  A004      F  Newyork   31       Nina      Adgra                  2   \n",
            "11  A005      F   Madrid   30        Amy      Johny                  3   \n",
            "12  A005      F   Madrid   30        Amy      Johny                  3   \n",
            "13  A005      F   Madrid   30        Amy      Johny                  3   \n",
            "\n",
            "       Project       Cost    Status     Bonus  \n",
            "0    Project 1  1002000.0  Finished   50100.0  \n",
            "1    Project 9  2210312.5   Ongoing       0.0  \n",
            "2   Project 11  2000000.0    Failed       0.0  \n",
            "3    Project 2  2000000.0   Ongoing       0.0  \n",
            "4    Project 6   680000.0    Failed       0.0  \n",
            "5    Project 3  4500000.0  Finished  225000.0  \n",
            "6    Project 8   350000.0    Failed       0.0  \n",
            "7   Project 10   300000.0  Finished   15000.0  \n",
            "8    Project 4  5500000.0   Ongoing       0.0  \n",
            "9   Project 12  1000000.0   Ongoing       0.0  \n",
            "10  Project 13  3000000.0  Finished  150000.0  \n",
            "11   Project 5  3250500.0  Finished  162525.0  \n",
            "12   Project 7   400000.0  Finished   20000.0  \n",
            "13  Project 14   200000.0  Finished   10000.0  \n"
          ]
        }
      ]
    },
    {
      "cell_type": "code",
      "source": [
        "#7. Add “Mr.” and “Mrs.” to the first name column and drop the gender column.\n",
        "\n",
        "import pandas as pd\n",
        "\n",
        "\n",
        "#Add \"Mr.\" for males and \"Mrs.\" for females to the first name\n",
        "Final['First Name'] = Final.apply(\n",
        "    lambda row: f\"Mr. {row['First Name']}\" if row['Gender'] == 'M' else f\"Mrs. {row['First Name']}\",\n",
        "    axis=1\n",
        ")\n",
        "\n",
        "# Step 2: Drop the gender column\n",
        "Final = Final.drop(columns=['Gender'])\n",
        "\n",
        "print(Final)"
      ],
      "metadata": {
        "colab": {
          "base_uri": "https://localhost:8080/"
        },
        "id": "zFv2pPSk3-Zn",
        "outputId": "72829ed3-20aa-4e0c-878d-73f94ca4d322"
      },
      "execution_count": 18,
      "outputs": [
        {
          "output_type": "stream",
          "name": "stdout",
          "text": [
            "      ID     City  Age  First Name  Last Name  Designation Level     Project  \\\n",
            "0   A001    Paris   25    Mr. John      Alter                  2   Project 1   \n",
            "1   A001    Paris   25    Mr. John      Alter                  2   Project 9   \n",
            "2   A001    Paris   25    Mr. John      Alter                  1  Project 11   \n",
            "3   A002   London   27  Mrs. Alice  Luxumberg                  2   Project 2   \n",
            "4   A002   London   27  Mrs. Alice  Luxumberg                  1   Project 6   \n",
            "5   A003   Berlin   29     Mr. Tom  Sabestine                  3   Project 3   \n",
            "6   A003   Berlin   29     Mr. Tom  Sabestine                  2   Project 8   \n",
            "7   A003   Berlin   29     Mr. Tom  Sabestine                  3  Project 10   \n",
            "8   A004  Newyork   31   Mrs. Nina      Adgra                  2   Project 4   \n",
            "9   A004  Newyork   31   Mrs. Nina      Adgra                  2  Project 12   \n",
            "10  A004  Newyork   31   Mrs. Nina      Adgra                  2  Project 13   \n",
            "11  A005   Madrid   30    Mrs. Amy      Johny                  3   Project 5   \n",
            "12  A005   Madrid   30    Mrs. Amy      Johny                  3   Project 7   \n",
            "13  A005   Madrid   30    Mrs. Amy      Johny                  3  Project 14   \n",
            "\n",
            "         Cost    Status     Bonus  \n",
            "0   1002000.0  Finished   50100.0  \n",
            "1   2210312.5   Ongoing       0.0  \n",
            "2   2000000.0    Failed       0.0  \n",
            "3   2000000.0   Ongoing       0.0  \n",
            "4    680000.0    Failed       0.0  \n",
            "5   4500000.0  Finished  225000.0  \n",
            "6    350000.0    Failed       0.0  \n",
            "7    300000.0  Finished   15000.0  \n",
            "8   5500000.0   Ongoing       0.0  \n",
            "9   1000000.0   Ongoing       0.0  \n",
            "10  3000000.0  Finished  150000.0  \n",
            "11  3250500.0  Finished  162525.0  \n",
            "12   400000.0  Finished   20000.0  \n",
            "13   200000.0  Finished   10000.0  \n"
          ]
        }
      ]
    },
    {
      "cell_type": "code",
      "source": [
        "#8. Promote designation level by 1 for the employees whose age is more than 29 years using IF condition.\n",
        "\n",
        "import pandas as pd\n",
        "\n",
        "#Promote the designation level by 1 for employees whose age is more than 29 years\n",
        "Final.loc[Final['Age'] > 29, 'Designation Level'] +=1\n",
        "\n",
        "print(Final)"
      ],
      "metadata": {
        "colab": {
          "base_uri": "https://localhost:8080/"
        },
        "id": "zE2Z11ag4y0t",
        "outputId": "1a5b042f-efdf-4c52-b7cd-46b142870948"
      },
      "execution_count": 19,
      "outputs": [
        {
          "output_type": "stream",
          "name": "stdout",
          "text": [
            "      ID     City  Age  First Name  Last Name  Designation Level     Project  \\\n",
            "0   A001    Paris   25    Mr. John      Alter                  2   Project 1   \n",
            "1   A001    Paris   25    Mr. John      Alter                  2   Project 9   \n",
            "2   A001    Paris   25    Mr. John      Alter                  1  Project 11   \n",
            "3   A002   London   27  Mrs. Alice  Luxumberg                  2   Project 2   \n",
            "4   A002   London   27  Mrs. Alice  Luxumberg                  1   Project 6   \n",
            "5   A003   Berlin   29     Mr. Tom  Sabestine                  3   Project 3   \n",
            "6   A003   Berlin   29     Mr. Tom  Sabestine                  2   Project 8   \n",
            "7   A003   Berlin   29     Mr. Tom  Sabestine                  3  Project 10   \n",
            "8   A004  Newyork   31   Mrs. Nina      Adgra                  3   Project 4   \n",
            "9   A004  Newyork   31   Mrs. Nina      Adgra                  3  Project 12   \n",
            "10  A004  Newyork   31   Mrs. Nina      Adgra                  3  Project 13   \n",
            "11  A005   Madrid   30    Mrs. Amy      Johny                  4   Project 5   \n",
            "12  A005   Madrid   30    Mrs. Amy      Johny                  4   Project 7   \n",
            "13  A005   Madrid   30    Mrs. Amy      Johny                  4  Project 14   \n",
            "\n",
            "         Cost    Status     Bonus  \n",
            "0   1002000.0  Finished   50100.0  \n",
            "1   2210312.5   Ongoing       0.0  \n",
            "2   2000000.0    Failed       0.0  \n",
            "3   2000000.0   Ongoing       0.0  \n",
            "4    680000.0    Failed       0.0  \n",
            "5   4500000.0  Finished  225000.0  \n",
            "6    350000.0    Failed       0.0  \n",
            "7    300000.0  Finished   15000.0  \n",
            "8   5500000.0   Ongoing       0.0  \n",
            "9   1000000.0   Ongoing       0.0  \n",
            "10  3000000.0  Finished  150000.0  \n",
            "11  3250500.0  Finished  162525.0  \n",
            "12   400000.0  Finished   20000.0  \n",
            "13   200000.0  Finished   10000.0  \n"
          ]
        }
      ]
    },
    {
      "cell_type": "code",
      "source": [
        "# 9. Add the cost of all projects for each Employee and save it in new dataframe “TotalProjCost” with three columns ID, First Name, and Total cost\n",
        "\n",
        "import pandas as pd\n",
        "\n",
        "\n",
        "# Step 1: Group by 'ID' and 'First Name', then sum the 'Cost' for each employee\n",
        "total_cost = Final.groupby(['ID', 'First Name'])['Cost'].sum().reset_index()\n",
        "\n",
        "# Step 2: Rename the 'Cost' column to 'Total Cost'\n",
        "total_cost.rename(columns={'Cost': 'Total Cost'}, inplace=True)\n",
        "\n",
        "# Step 3: Create the TotalProjCost dataframe\n",
        "TotalProjCost = total_cost[['ID', 'First Name', 'Total Cost']]\n",
        "\n",
        "# Display the TotalProjCost dataframe\n",
        "print(TotalProjCost)"
      ],
      "metadata": {
        "colab": {
          "base_uri": "https://localhost:8080/"
        },
        "id": "alDn59V_6NDg",
        "outputId": "d08577ac-cdcb-4a9f-cb78-558ffd65ce3b"
      },
      "execution_count": 20,
      "outputs": [
        {
          "output_type": "stream",
          "name": "stdout",
          "text": [
            "     ID  First Name  Total Cost\n",
            "0  A001    Mr. John   5212312.5\n",
            "1  A002  Mrs. Alice   2680000.0\n",
            "2  A003     Mr. Tom   5150000.0\n",
            "3  A004   Mrs. Nina   9500000.0\n",
            "4  A005    Mrs. Amy   3850500.0\n"
          ]
        }
      ]
    },
    {
      "cell_type": "code",
      "source": [
        "#10. Print all the employee details whose city name contains the letter “o” in it.\n",
        "\n",
        "import pandas as pd\n",
        "\n",
        "\n",
        "# Filter the rows where the 'City' column contains the letter \"o\"\n",
        "employees_in_cities_with_o = Final[Final['City'].str.contains('o', case=False, na=False)]\n",
        "\n",
        "\n",
        "print(employees_in_cities_with_o)"
      ],
      "metadata": {
        "colab": {
          "base_uri": "https://localhost:8080/"
        },
        "id": "heagedMw7N8O",
        "outputId": "db1c6ab0-0867-4246-eb12-9594900b993b"
      },
      "execution_count": 21,
      "outputs": [
        {
          "output_type": "stream",
          "name": "stdout",
          "text": [
            "      ID     City  Age  First Name  Last Name  Designation Level     Project  \\\n",
            "3   A002   London   27  Mrs. Alice  Luxumberg                  2   Project 2   \n",
            "4   A002   London   27  Mrs. Alice  Luxumberg                  1   Project 6   \n",
            "8   A004  Newyork   31   Mrs. Nina      Adgra                  3   Project 4   \n",
            "9   A004  Newyork   31   Mrs. Nina      Adgra                  3  Project 12   \n",
            "10  A004  Newyork   31   Mrs. Nina      Adgra                  3  Project 13   \n",
            "\n",
            "         Cost    Status     Bonus  \n",
            "3   2000000.0   Ongoing       0.0  \n",
            "4    680000.0    Failed       0.0  \n",
            "8   5500000.0   Ongoing       0.0  \n",
            "9   1000000.0   Ongoing       0.0  \n",
            "10  3000000.0  Finished  150000.0  \n"
          ]
        }
      ]
    }
  ]
}